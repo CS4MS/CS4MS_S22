{
 "cells": [
  {
   "cell_type": "markdown",
   "metadata": {},
   "source": [
    "\n",
    "# Exercise 5: Metrics and Object Oriented Programming\n",
    "\n",
    "Object oriented programming (OOP) is a popular programming paradigm.  \n",
    "It is based on the idea of 'objects', that have attributes and methods to handle data.  \n",
    "\n",
    "Before you start, please get familiar with the basic concept of OOP by looking at some of the available resources online. \n",
    "If you search for object oriented programming with python on the internet, you will find tons of material, from short beginner tutorials to whole courses.  \n",
    "e.g. [this one](https://realpython.com/python3-object-oriented-programming/) or [this](https://www.codecademy.com/learn/learn-python/modules/learn-python-introduction-to-classes-u)\n",
    "\n"
   ]
  },
  {
   "cell_type": "code",
   "execution_count": 47,
   "metadata": {},
   "outputs": [],
   "source": [
    "import numpy as np\n",
    "import matplotlib.pyplot as plt\n",
    "import pandas as pd"
   ]
  },
  {
   "cell_type": "markdown",
   "metadata": {},
   "source": [
    "The next cell shows an example of how sensitivity can be computed."
   ]
  },
  {
   "cell_type": "code",
   "execution_count": 12,
   "metadata": {},
   "outputs": [],
   "source": [
    "def compute_sensitivity(x,y):\n",
    "    \"\"\"\n",
    "    Args:\n",
    "        x: one hot encoded vector of predictions\n",
    "        y: one hot encoded vector of ground truth\n",
    "    \"\"\"\n",
    "    if x.shape != y.shape:\n",
    "        raise ValueError(\"x and y should have the same shape.\")\n",
    "    \n",
    "    tp = ((x+y)==2).sum()\n",
    "    p = y.sum()\n",
    "    return tp/p\n",
    "    "
   ]
  },
  {
   "cell_type": "markdown",
   "metadata": {},
   "source": [
    "Lets define small vectors x and y and test the sensitivity function.  \n",
    "You can play around with the values in x and y vectors "
   ]
  },
  {
   "cell_type": "code",
   "execution_count": 20,
   "metadata": {},
   "outputs": [
    {
     "data": {
      "text/plain": [
       "0.6666666666666666"
      ]
     },
     "execution_count": 20,
     "metadata": {},
     "output_type": "execute_result"
    }
   ],
   "source": [
    "x = np.array([1, 1, 0, 1])\n",
    "y = np.array([1, 1, 1, 0])\n",
    "compute_sensitivity(x,y)"
   ]
  },
  {
   "cell_type": "markdown",
   "metadata": {},
   "source": [
    "now let's define a function to compute precision in a similar fashion"
   ]
  },
  {
   "cell_type": "code",
   "execution_count": 18,
   "metadata": {},
   "outputs": [],
   "source": [
    "def compute_precision(x,y):\n",
    "    \"\"\"\n",
    "    Args:\n",
    "        x: one hot encoded vector of predictions\n",
    "        y: one hot encoded vector of ground truth\n",
    "    \"\"\"\n",
    "    if x.shape != y.shape:\n",
    "        raise ValueError(\"x and y should have the same shape.\")\n",
    "    \n",
    "    tp = ((x+y)==2).sum()\n",
    "    fp = ((x-y)==1).sum()\n",
    "    return tp/(tp+fp)"
   ]
  },
  {
   "cell_type": "markdown",
   "metadata": {},
   "source": [
    "and let's test it with our example vectors:"
   ]
  },
  {
   "cell_type": "code",
   "execution_count": 21,
   "metadata": {},
   "outputs": [
    {
     "data": {
      "text/plain": [
       "0.6666666666666666"
      ]
     },
     "execution_count": 21,
     "metadata": {},
     "output_type": "execute_result"
    }
   ],
   "source": [
    "compute_precision(x,y)"
   ]
  },
  {
   "cell_type": "markdown",
   "metadata": {},
   "source": [
    "You can see that both functions had to compute the false positives (tp), which is fine in this small example, but with very large multi-dimensional tensors would be inconvenient.\n",
    "Also, if you want to make changes to the calculation of tp you would have to do it in both functions.\n",
    "One solution would be to extract the true positive calculation into a new function, but in this exercise we want to focus on OOP.  \n",
    "\n",
    "Let's define a class ConfusionMatrix, that is initialized with our 2 vectors x and y and stores the values of tp, tn... as class attributes."
   ]
  },
  {
   "cell_type": "code",
   "execution_count": 104,
   "metadata": {},
   "outputs": [],
   "source": [
    "class ConfusionMatrix():\n",
    "    def __init__(self, x, y):\n",
    "        \"\"\"\n",
    "        Args:\n",
    "            x: one hot encoded vector of predictions\n",
    "            y: one hot encoded vector of ground truth\n",
    "        \"\"\"\n",
    "        self.tp = ((x+y)==2).sum()\n",
    "        self.fp = ((x-y)==1).sum()\n",
    "        self.p = y.sum()\n"
   ]
  },
  {
   "cell_type": "markdown",
   "metadata": {},
   "source": [
    "now let's create an instance (object) of the class ConfusionMatrix:"
   ]
  },
  {
   "cell_type": "code",
   "execution_count": 105,
   "metadata": {},
   "outputs": [],
   "source": [
    "cm = ConfusionMatrix(x,y)"
   ]
  },
  {
   "cell_type": "markdown",
   "metadata": {},
   "source": [
    "now we can have a look at the objects attributes:"
   ]
  },
  {
   "cell_type": "code",
   "execution_count": 106,
   "metadata": {},
   "outputs": [
    {
     "data": {
      "text/plain": [
       "1"
      ]
     },
     "execution_count": 106,
     "metadata": {},
     "output_type": "execute_result"
    }
   ],
   "source": [
    "cm.tp\n",
    "cm.fp"
   ]
  },
  {
   "cell_type": "markdown",
   "metadata": {},
   "source": [
    "We can also define some class methods, e.g. to compute sensitivity"
   ]
  },
  {
   "cell_type": "code",
   "execution_count": 107,
   "metadata": {},
   "outputs": [],
   "source": [
    "class ConfusionMatrix():\n",
    "    def __init__(self, x, y):\n",
    "        \"\"\"\n",
    "        Args:\n",
    "            x: one hot encoded vector of predictions\n",
    "            y: one hot encoded vector of ground truth\n",
    "        \"\"\"\n",
    "        self.tp = ((x+y)==2).sum()\n",
    "        self.fp = ((x-y)==1).sum()\n",
    "        self.p = y.sum()\n",
    "    \n",
    "    def get_sensitivity(self):\n",
    "        return self.tp/self.p"
   ]
  },
  {
   "cell_type": "code",
   "execution_count": 108,
   "metadata": {},
   "outputs": [
    {
     "data": {
      "text/plain": [
       "0.6666666666666666"
      ]
     },
     "execution_count": 108,
     "metadata": {},
     "output_type": "execute_result"
    }
   ],
   "source": [
    "cm = ConfusionMatrix(x,y)\n",
    "cm.get_sensitivity()"
   ]
  },
  {
   "cell_type": "markdown",
   "metadata": {},
   "source": [
    "\n",
    "### Homework:\n",
    "\n",
    "\n",
    "Now you can complete the class ConfusionMatrix by adding methods for specificity, precision and F1 score. Feel free to add more class attributes if needed.  \n",
    "The formulas to compute confusion matrix based metrics can be found in the lecture slides or: [Confusion matrix](https://en.wikipedia.org/wiki/Confusion_matrix)"
   ]
  },
  {
   "cell_type": "code",
   "execution_count": 38,
   "metadata": {},
   "outputs": [],
   "source": [
    "### Homework complete the class ConfusionMatrix here\n",
    "class ConfusionMatrix():\n",
    "    def __init__(self, x, y):\n",
    "        self.tp = ((x+y)==2).sum()\n",
    "        self.fp = ((x-y)==1).sum()\n",
    "        self.p = y.sum()\n",
    "        self.tn = ((x+y)==0).sum() \n",
    "        self.fn = ((self.p-self.tp)) or (y-x)==1\n",
    "        \n",
    "    \n",
    "    def get_sensitivity(self):\n",
    "        return self.tp/self.p\n",
    "    \n",
    "    def get_specificity(self):\n",
    "        # fill here\n",
    "        return self.tn/(self.tn+self.fp)\n",
    "    \n",
    "    def get_precision(self):\n",
    "        # fill here\n",
    "        return self.tp/(self.tp+self.fp)\n",
    "    \n",
    "    def get_f1score(self):\n",
    "        # fill here\n",
    "        return (2*self.tp/(2*self.tp + self.fp + self.fn))"
   ]
  },
  {
   "cell_type": "markdown",
   "metadata": {},
   "source": [
    "Finally we want to use our ConfusionMatrix class to plot the ROC:  \n",
    "first we will load a .csv file with values for prediction and actual labels:"
   ]
  },
  {
   "cell_type": "code",
   "execution_count": 82,
   "metadata": {},
   "outputs": [
    {
     "data": {
      "text/html": [
       "<div>\n",
       "<style scoped>\n",
       "    .dataframe tbody tr th:only-of-type {\n",
       "        vertical-align: middle;\n",
       "    }\n",
       "\n",
       "    .dataframe tbody tr th {\n",
       "        vertical-align: top;\n",
       "    }\n",
       "\n",
       "    .dataframe thead th {\n",
       "        text-align: right;\n",
       "    }\n",
       "</style>\n",
       "<table border=\"1\" class=\"dataframe\">\n",
       "  <thead>\n",
       "    <tr style=\"text-align: right;\">\n",
       "      <th></th>\n",
       "      <th>actual</th>\n",
       "      <th>prediction</th>\n",
       "    </tr>\n",
       "  </thead>\n",
       "  <tbody>\n",
       "    <tr>\n",
       "      <th>0</th>\n",
       "      <td>0</td>\n",
       "      <td>0.144127</td>\n",
       "    </tr>\n",
       "    <tr>\n",
       "      <th>1</th>\n",
       "      <td>1</td>\n",
       "      <td>0.638434</td>\n",
       "    </tr>\n",
       "    <tr>\n",
       "      <th>2</th>\n",
       "      <td>0</td>\n",
       "      <td>0.232083</td>\n",
       "    </tr>\n",
       "    <tr>\n",
       "      <th>3</th>\n",
       "      <td>0</td>\n",
       "      <td>0.339769</td>\n",
       "    </tr>\n",
       "    <tr>\n",
       "      <th>4</th>\n",
       "      <td>0</td>\n",
       "      <td>0.214437</td>\n",
       "    </tr>\n",
       "    <tr>\n",
       "      <th>...</th>\n",
       "      <td>...</td>\n",
       "      <td>...</td>\n",
       "    </tr>\n",
       "    <tr>\n",
       "      <th>95</th>\n",
       "      <td>0</td>\n",
       "      <td>0.439689</td>\n",
       "    </tr>\n",
       "    <tr>\n",
       "      <th>96</th>\n",
       "      <td>0</td>\n",
       "      <td>0.416856</td>\n",
       "    </tr>\n",
       "    <tr>\n",
       "      <th>97</th>\n",
       "      <td>0</td>\n",
       "      <td>0.283074</td>\n",
       "    </tr>\n",
       "    <tr>\n",
       "      <th>98</th>\n",
       "      <td>1</td>\n",
       "      <td>0.860123</td>\n",
       "    </tr>\n",
       "    <tr>\n",
       "      <th>99</th>\n",
       "      <td>1</td>\n",
       "      <td>0.713494</td>\n",
       "    </tr>\n",
       "  </tbody>\n",
       "</table>\n",
       "<p>100 rows × 2 columns</p>\n",
       "</div>"
      ],
      "text/plain": [
       "    actual  prediction\n",
       "0        0    0.144127\n",
       "1        1    0.638434\n",
       "2        0    0.232083\n",
       "3        0    0.339769\n",
       "4        0    0.214437\n",
       "..     ...         ...\n",
       "95       0    0.439689\n",
       "96       0    0.416856\n",
       "97       0    0.283074\n",
       "98       1    0.860123\n",
       "99       1    0.713494\n",
       "\n",
       "[100 rows x 2 columns]"
      ]
     },
     "execution_count": 82,
     "metadata": {},
     "output_type": "execute_result"
    }
   ],
   "source": [
    "!wget https://github.com/CS4MS/CS4MS_S22/raw/main/data/exercise5_prediction.csv\n",
    "pred_df = pd.read_csv('exercise5_prediction.csv')\n",
    "\n",
    "pred_df"
   ]
  },
  {
   "cell_type": "markdown",
   "metadata": {},
   "source": [
    "the dataframe has 100 rows and 2 columns for actual values and prediction.  \n",
    "as you can see, the prediction values are floating point and not 0 or 1.  \n",
    "We need to define a threshold that decides if a prediction gets assigned to class 0 or 1.\n"
   ]
  },
  {
   "cell_type": "code",
   "execution_count": 98,
   "metadata": {},
   "outputs": [],
   "source": [
    "threshold = 0.5\n",
    "# first let's turn the dataframe into separate numpy arrays\n",
    "actual = np.array(pred_df['actual'])\n",
    "pred = np.array(pred_df['prediction'])\n",
    "\n",
    "# now we can define a new array new_pred and set the numbers higher than the threshold to 1 and the ones lower to 0.\n",
    "new_pred = np.zeros_like(pred)\n",
    "new_pred[pred> threshold] = 1\n"
   ]
  },
  {
   "cell_type": "code",
   "execution_count": 100,
   "metadata": {},
   "outputs": [
    {
     "data": {
      "text/plain": [
       "0.7708333333333334"
      ]
     },
     "execution_count": 100,
     "metadata": {},
     "output_type": "execute_result"
    }
   ],
   "source": [
    "# and we can compute our metrics with the confusion matrix:\n",
    "cm = ConfusionMatrix(new_pred,actual)\n",
    "#cm.get_sensitivity()\n",
    "#cm.get_specificity()\n",
    "cm.get_f1score()"
   ]
  },
  {
   "cell_type": "markdown",
   "metadata": {},
   "source": [
    "The threshold of 0.5 seems to have been a good choice. But what if we had used a different value?  \n"
   ]
  },
  {
   "cell_type": "code",
   "execution_count": 101,
   "metadata": {},
   "outputs": [],
   "source": [
    "# for plotting the ROC we need to use multiple thresholds:\n",
    "# using numpy linspace we can create 100 evenly spaced numbers between 0 and 1:\n",
    "thresholds = np.linspace(0,1,100)\n",
    "#print(thresholds)"
   ]
  },
  {
   "cell_type": "markdown",
   "metadata": {},
   "source": [
    "\n",
    "### Homework\n",
    "\n",
    "use the thresholds to threshold the predictions, and then compute the metrics needed to plot the ROC.  \n",
    "you can use the lists below to store x and y values."
   ]
  },
  {
   "cell_type": "code",
   "execution_count": null,
   "metadata": {},
   "outputs": [],
   "source": [
    "y_values = [] \n",
    "x_values = []\n",
    "# put your code here:\n",
    "for threshold in thresholds:\n",
    "    new_pred = np.zeros_like(pred)\n",
    "    new_pred[pred>threshold] = 1\n",
    "    cm = ConfusionMatrix(new_pred,actual)\n",
    "    sens = cm.get_sensitivity()\n",
    "    spec = cm.get_specificity()\n",
    "    y_values.append(sens)\n",
    "    x_values.append(1-spec)"
   ]
  },
  {
   "cell_type": "markdown",
   "metadata": {},
   "source": [
    "now you can use the cell below to plot the ROC.  \n",
    "the dotted red line shows the ROC for a random classifier"
   ]
  },
  {
   "cell_type": "code",
   "execution_count": 103,
   "metadata": {},
   "outputs": [
    {
     "data": {
      "image/png": "[encoded data removed]",
      "text/plain": [
       "<Figure size 432x288 with 1 Axes>"
      ]
     },
     "metadata": {
      "needs_background": "light"
     },
     "output_type": "display_data"
    }
   ],
   "source": [
    "# plot ROC curve\n",
    "plt.title('ROC')\n",
    "plt.plot(x_values,y_values, 'b')\n",
    "#plt.plot(roc_values)\n",
    "plt.plot([0, 1], [0, 1],'r--')\n",
    "plt.xlim([0, 1])\n",
    "plt.ylim([0, 1])\n",
    "plt.ylabel('Sensitivity')\n",
    "plt.xlabel('1-Specificity')\n",
    "plt.show()"
   ]
  },
  {
   "cell_type": "code",
   "execution_count": null,
   "metadata": {},
   "outputs": [],
   "source": []
  }
 ],
 "metadata": {
  "kernelspec": {
   "display_name": "Python 3",
   "language": "python",
   "name": "python3"
  },
  "language_info": {
   "codemirror_mode": {
    "name": "ipython",
    "version": 3
   },
   "file_extension": ".py",
   "mimetype": "text/x-python",
   "name": "python",
   "nbconvert_exporter": "python",
   "pygments_lexer": "ipython3",
   "version": "3.7.3"
  }
 },
 "nbformat": 4,
 "nbformat_minor": 5
}
